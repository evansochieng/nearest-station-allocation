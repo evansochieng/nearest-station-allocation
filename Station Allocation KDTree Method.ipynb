{
 "cells": [
  {
   "cell_type": "code",
   "execution_count": 1,
   "id": "d1c1b2ac",
   "metadata": {},
   "outputs": [],
   "source": [
    "#load required packages\n",
    "import pandas as pd\n",
    "import os\n",
    "import numpy as np\n",
    "import csv\n",
    "from scipy import spatial"
   ]
  },
  {
   "cell_type": "code",
   "execution_count": 2,
   "id": "c2e35ee9",
   "metadata": {},
   "outputs": [],
   "source": [
    "#change your working directory\n",
    "os.chdir(\"C:/Users/HP/Desktop/Syngenta/Jun-Aug 2021/Station Allocation/\")"
   ]
  },
  {
   "cell_type": "code",
   "execution_count": 3,
   "id": "e8776d1b",
   "metadata": {},
   "outputs": [],
   "source": [
    "#read in the required data\n",
    "farmers = pd.read_csv(\"C:/Users/HP/Desktop/Syngenta/Jun-Aug 2021/Station Allocation/Farmers.csv\")\n",
    "stations = pd.read_csv(\"C:/Users/HP/Desktop/Syngenta/Jun-Aug 2021/Station Allocation/RG GPS.csv\")"
   ]
  },
  {
   "cell_type": "code",
   "execution_count": 10,
   "id": "fc06bd8a",
   "metadata": {},
   "outputs": [],
   "source": [
    "#Create an empty dataframe\n",
    "station_allocation = pd.DataFrame(columns=[\"Distance\", \"Closest\"])"
   ]
  },
  {
   "cell_type": "code",
   "execution_count": 11,
   "id": "aa664c98",
   "metadata": {},
   "outputs": [],
   "source": [
    "#Create a search tree, find the index of the closest station coordinates to the farmers position and match with the appropriate station\n",
    "the_stations = stations[['Latitude', 'Longitude']].to_numpy()\n",
    "stationpoints = spatial.KDTree(the_stations)\n",
    "distance, index = stationpoints.query(farmers.loc[:, [\"Latitude\", \"Longitude\"]], k=1)\n",
    "station = stations[[\"Name\"]]\n",
    "for i in range(len(index)):\n",
    "    station_allocation.loc[i] = [distance[i], str(station.loc[index[i]].values)[2:-2]]"
   ]
  },
  {
   "cell_type": "code",
   "execution_count": 13,
   "id": "37bda3b2",
   "metadata": {},
   "outputs": [],
   "source": [
    "#rename index\n",
    "station_allocation.index = farmers[\"Farmer\"]"
   ]
  },
  {
   "cell_type": "code",
   "execution_count": 14,
   "id": "7ef2bbc6",
   "metadata": {},
   "outputs": [],
   "source": [
    "#save the file\n",
    "station_allocation.to_csv(\"Station_Allocated_ST.csv\")"
   ]
  }
 ],
 "metadata": {
  "kernelspec": {
   "display_name": "Python 3 (ipykernel)",
   "language": "python",
   "name": "python3"
  },
  "language_info": {
   "codemirror_mode": {
    "name": "ipython",
    "version": 3
   },
   "file_extension": ".py",
   "mimetype": "text/x-python",
   "name": "python",
   "nbconvert_exporter": "python",
   "pygments_lexer": "ipython3",
   "version": "3.8.12"
  }
 },
 "nbformat": 4,
 "nbformat_minor": 5
}
